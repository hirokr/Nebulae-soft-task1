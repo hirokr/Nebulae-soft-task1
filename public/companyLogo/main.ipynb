{
 "cells": [
  {
   "cell_type": "code",
   "execution_count": null,
   "metadata": {},
   "outputs": [],
   "source": []
  },
  {
   "cell_type": "code",
   "execution_count": 14,
   "metadata": {},
   "outputs": [],
   "source": [
    "import os\n",
    "from pathlib import Path\n",
    "import random\n",
    "def changeName(seq, path,name):\n",
    "  name = name.split('.')[-1]\n",
    "  file = Path(path)\n",
    "  newName = file.with_name(f\"{seq}.{name}\")\n",
    "  file.rename(newName)\n",
    "\n",
    "def allRename(path,name, sq):\n",
    "  name = name.split('.')[-1]\n",
    "  file = Path(path)\n",
    "  try:\n",
    "    newName = file.with_name(f\"987132987hehwfh987123r{sq}wiehjfg.{name}\")\n",
    "  except FileExistsError as e:\n",
    "    newName = file.with_name(f\"987132987hesdfgdfhwfh9871{sq}e3rwiehjfg.{name}\")\n",
    "\n",
    "  file.rename(newName)\n",
    "\n",
    "def main(dir, seq= True):\n",
    "  files = Path(dir)\n",
    "  count = 0\n",
    "  for file in files.iterdir():\n",
    "    allRename(file, file.name, count)\n",
    "    count += 23\n",
    "\n",
    "  count = 0\n",
    "  for file in files.iterdir():\n",
    "    changeName(count, file, file.name)\n",
    "    count += 1\n",
    "\n",
    "if __name__ == \"__main__\":\n",
    "  main(r\"E:\\WEB DEV\\Nebulae-soft\\task1\\public\\WEBP\")\n"
   ]
  },
  {
   "cell_type": "code",
   "execution_count": null,
   "metadata": {},
   "outputs": [],
   "source": []
  }
 ],
 "metadata": {
  "kernelspec": {
   "display_name": "data",
   "language": "python",
   "name": "python3"
  },
  "language_info": {
   "codemirror_mode": {
    "name": "ipython",
    "version": 3
   },
   "file_extension": ".py",
   "mimetype": "text/x-python",
   "name": "python",
   "nbconvert_exporter": "python",
   "pygments_lexer": "ipython3",
   "version": "3.12.5"
  }
 },
 "nbformat": 4,
 "nbformat_minor": 2
}
