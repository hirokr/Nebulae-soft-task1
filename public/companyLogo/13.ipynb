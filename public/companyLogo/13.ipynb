{
 "cells": [
  {
   "cell_type": "code",
   "execution_count": null,
   "metadata": {},
   "outputs": [],
   "source": []
  },
  {
   "cell_type": "code",
   "execution_count": null,
   "metadata": {},
   "outputs": [],
   "source": [
    "import os\n",
    "from pathlib import Path\n",
    "def changeName(seq, path,name):\n",
    "  name = name.split('.')[-1]\n",
    "  file = Path(path)\n",
    "  newName = file.with_name(f\"{seq}.{name}\")\n",
    "  file.rename(newName)\n",
    "\n",
    "def main(dir, seq= True):\n",
    "  files = Path(dir)\n",
    "  count = 1\n",
    "  for file in files.iterdir():\n",
    "    changeName(count, file, file.name)\n",
    "    count += 1\n",
    "\n",
    "if __name__ == \"__main__\":\n",
    "  main(r\"E:\\WEB DEV\\Nebulae-soft\\task1\\public\\companyLogo\")\n"
   ]
  }
 ],
 "metadata": {
  "kernelspec": {
   "display_name": "data",
   "language": "python",
   "name": "python3"
  },
  "language_info": {
   "name": "python",
   "version": "3.12.5"
  }
 },
 "nbformat": 4,
 "nbformat_minor": 2
}
